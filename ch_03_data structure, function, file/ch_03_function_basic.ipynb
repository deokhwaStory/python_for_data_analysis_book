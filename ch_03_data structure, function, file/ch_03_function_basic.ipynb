{
 "cells": [
  {
   "cell_type": "markdown",
   "metadata": {},
   "source": [
    "#### function\n",
    "\n",
    "- 코드의 재사용 위해\n",
    "- 파이썬 명령어들의 집합에 이름을 지어 가독성 높은 코드 작성\n",
    "- def 예약어로 정의하고 return 예약어로 값 반환\n",
    "\n",
    "```python\n",
    "def my_function(x, y, z=1.5) :\n",
    "    if z > 1 :\n",
    "        return z * (x + y)\n",
    "    else :\n",
    "        return z / (x + y)\n",
    "```\n",
    "- return문은 몇 개가 되든 상관없음\n",
    "- 함수 블럭이 끝날 때까지 return문 없으면 None 자동 반환\n",
    "- 여러 개의 일반 인자와 키워드 인자 받을 수 있음\n",
    "- 키워드 인자 : 기본 값 또는 부수적 인자를 지정하기 위해 사용, 항상 일반인자 다음에 와야함, 키워드 인자의 순서는 없음\n",
    "- 위의 경우,  x, y는 일반인자이며 z는 키워드 인자\n",
    "- 호출 방법\n",
    "```python\n",
    "my_function(5, 6, z =0.7)\n",
    "my_function(3.14, 7, 3.5)\n",
    "my_function(10, 20)\n",
    "my_function(x=5, y=6, z = 7)\n",
    "my_function(y=6, x=5, z = 7)\n",
    "```"
   ]
  },
  {
   "cell_type": "markdown",
   "metadata": {},
   "source": [
    "참고 자료\n",
    "> Python for Data Analysis(2019), 한빛미디어"
   ]
  }
 ],
 "metadata": {
  "kernelspec": {
   "display_name": "Python 3",
   "language": "python",
   "name": "python3"
  },
  "language_info": {
   "codemirror_mode": {
    "name": "ipython",
    "version": 3
   },
   "file_extension": ".py",
   "mimetype": "text/x-python",
   "name": "python",
   "nbconvert_exporter": "python",
   "pygments_lexer": "ipython3",
   "version": "3.7.3"
  }
 },
 "nbformat": 4,
 "nbformat_minor": 2
}
