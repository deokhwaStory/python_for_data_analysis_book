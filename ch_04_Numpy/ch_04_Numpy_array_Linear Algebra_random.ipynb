{
 "cells": [
  {
   "cell_type": "markdown",
   "metadata": {},
   "source": [
    "### Linear Algebra\n",
    "\n",
    "- 행렬의 곱셈, 분할, 행렬식, 정사각 행렬 수학 등\n",
    "- 두개의 2차원 배열을 `*`연산자로 곱하면 행렬 곱이 아니라 대응하는 각 원소의 곱 계산함\n",
    "- `dot` :  행렬의 곱 계산"
   ]
  },
  {
   "cell_type": "code",
   "execution_count": 1,
   "metadata": {},
   "outputs": [],
   "source": [
    "x = np.array([[1.,2.,3.], [4.,5.,6.]])\n",
    "y = np.array([[6., 23.],[-1, 7.],[8,9]])"
   ]
  },
  {
   "cell_type": "code",
   "execution_count": 2,
   "metadata": {},
   "outputs": [
    {
     "data": {
      "text/plain": [
       "array([[1., 2., 3.],\n",
       "       [4., 5., 6.]])"
      ]
     },
     "execution_count": 2,
     "metadata": {},
     "output_type": "execute_result"
    }
   ],
   "source": [
    "x"
   ]
  },
  {
   "cell_type": "code",
   "execution_count": 3,
   "metadata": {},
   "outputs": [
    {
     "data": {
      "text/plain": [
       "array([[ 6., 23.],\n",
       "       [-1.,  7.],\n",
       "       [ 8.,  9.]])"
      ]
     },
     "execution_count": 3,
     "metadata": {},
     "output_type": "execute_result"
    }
   ],
   "source": [
    "y"
   ]
  },
  {
   "cell_type": "code",
   "execution_count": 4,
   "metadata": {},
   "outputs": [
    {
     "data": {
      "text/plain": [
       "array([[ 28.,  64.],\n",
       "       [ 67., 181.]])"
      ]
     },
     "execution_count": 4,
     "metadata": {},
     "output_type": "execute_result"
    }
   ],
   "source": [
    "x.dot(y)"
   ]
  },
  {
   "cell_type": "code",
   "execution_count": 5,
   "metadata": {},
   "outputs": [
    {
     "data": {
      "text/plain": [
       "array([[ 28.,  64.],\n",
       "       [ 67., 181.]])"
      ]
     },
     "execution_count": 5,
     "metadata": {},
     "output_type": "execute_result"
    }
   ],
   "source": [
    "np.dot(x,y) #위와 동일"
   ]
  },
  {
   "cell_type": "markdown",
   "metadata": {},
   "source": [
    "- 2차원 배열과 곱셈가능한 1차원 배열간의 연산은 1차원 배열"
   ]
  },
  {
   "cell_type": "code",
   "execution_count": 7,
   "metadata": {},
   "outputs": [
    {
     "data": {
      "text/plain": [
       "array([1., 1., 1.])"
      ]
     },
     "execution_count": 7,
     "metadata": {},
     "output_type": "execute_result"
    }
   ],
   "source": [
    "np.ones(3)"
   ]
  },
  {
   "cell_type": "code",
   "execution_count": 10,
   "metadata": {},
   "outputs": [
    {
     "data": {
      "text/plain": [
       "array([ 6., 15.])"
      ]
     },
     "execution_count": 10,
     "metadata": {},
     "output_type": "execute_result"
    }
   ],
   "source": [
    "np.dot(x, np.ones(3))"
   ]
  },
  {
   "cell_type": "markdown",
   "metadata": {},
   "source": [
    "- `@` : 행렬 곱셈 수행(python3.5부터 가능)"
   ]
  },
  {
   "cell_type": "code",
   "execution_count": 20,
   "metadata": {},
   "outputs": [
    {
     "data": {
      "text/plain": [
       "array([ 6., 15.])"
      ]
     },
     "execution_count": 20,
     "metadata": {},
     "output_type": "execute_result"
    }
   ],
   "source": [
    "x @ np.ones(3)"
   ]
  },
  {
   "cell_type": "markdown",
   "metadata": {},
   "source": [
    "- `numpy.linalg` : 행렬의 분할과 역행렬, 행렬식과 같은 것 포함"
   ]
  },
  {
   "cell_type": "code",
   "execution_count": 35,
   "metadata": {},
   "outputs": [
    {
     "data": {
      "text/plain": [
       "array([[3.64258591, 5.39464016, 1.22156062, 0.23542558, 4.23500227],\n",
       "       [5.39464016, 8.3798606 , 1.89750548, 0.28611421, 6.42776881],\n",
       "       [1.22156062, 1.89750548, 1.66690566, 0.50657961, 1.65413158],\n",
       "       [0.23542558, 0.28611421, 0.50657961, 0.44127849, 0.34333892],\n",
       "       [4.23500227, 6.42776881, 1.65413158, 0.34333892, 5.47944478]])"
      ]
     },
     "execution_count": 35,
     "metadata": {},
     "output_type": "execute_result"
    }
   ],
   "source": [
    "from numpy.linalg import inv, qr\n",
    "\n",
    "X = np.random.randn(5,5)\n",
    "mat = X.T.dot(X)  # X.T.dot(X)는 X.T의 전치행렬과 X의 곱\n",
    "\n",
    "inv(mat)  # 역행렬(Matrix Inverse)"
   ]
  },
  {
   "cell_type": "code",
   "execution_count": 36,
   "metadata": {},
   "outputs": [
    {
     "data": {
      "text/plain": [
       "array([[ 1.00000000e+00,  3.14796909e-16,  1.20651755e-15,\n",
       "         1.00529270e-16,  4.28562095e-15],\n",
       "       [ 1.55751541e-15,  1.00000000e+00, -2.73117804e-16,\n",
       "         3.50318087e-18,  6.35964522e-16],\n",
       "       [ 3.14340274e-18,  6.59338179e-16,  1.00000000e+00,\n",
       "         6.55297946e-17,  1.69794098e-16],\n",
       "       [ 1.44931974e-16, -8.34103705e-16, -6.46286221e-16,\n",
       "         1.00000000e+00, -1.53001116e-16],\n",
       "       [ 3.45964643e-16,  3.21366128e-15,  5.26666697e-16,\n",
       "         1.14241197e-16,  1.00000000e+00]])"
      ]
     },
     "execution_count": 36,
     "metadata": {},
     "output_type": "execute_result"
    }
   ],
   "source": [
    "mat.dot(inv(mat))"
   ]
  },
  {
   "cell_type": "code",
   "execution_count": 29,
   "metadata": {},
   "outputs": [],
   "source": [
    "q, r = qr(mat)"
   ]
  },
  {
   "cell_type": "code",
   "execution_count": 30,
   "metadata": {},
   "outputs": [
    {
     "data": {
      "text/plain": [
       "array([[-4.81966412,  2.30822833,  0.11081991,  3.11472595, -1.9799662 ],\n",
       "       [ 0.        , -5.21695427,  0.58710982, -4.19765813, -6.52800172],\n",
       "       [ 0.        ,  0.        , -4.5918059 ,  0.80982247,  1.22415161],\n",
       "       [ 0.        ,  0.        ,  0.        , -1.42583347, -3.38149499],\n",
       "       [ 0.        ,  0.        ,  0.        ,  0.        ,  0.73177617]])"
      ]
     },
     "execution_count": 30,
     "metadata": {},
     "output_type": "execute_result"
    }
   ],
   "source": [
    "r"
   ]
  },
  {
   "cell_type": "markdown",
   "metadata": {},
   "source": [
    "- 자주 사용하는 numpy.linalg함수\n",
    "\n",
    "|함수|설명|\n",
    "|:--|:--|\n",
    "|diag|정사각 행렬의 대각/비대각 원소를 1차원 배열로 반환하거나, 1차원 배열을 대각선 원소로 하고 나머지는 0으로 채운 단위행렬을 반환|\n",
    "|dot|행렬 곱셈|\n",
    "|trace|행렬의 대각선 원소의 합|\n",
    "|det|행렬식 계산|\n",
    "|eig|정사각 행렬의 고유값과 고유 벡터 계산|\n",
    "|inv|정사각 행렬의 역행렬 계산|\n",
    "|pinv|정사각 행렬의 무어-펜로즈 유사역원 역행렬 계산|\n",
    "|qr|QR분해를 계산|\n",
    "|svd|특잇값 분해(SVD) 계산|\n",
    "|solve|A가 정사각 행렬일때 Ax = b를 만족하는 x계산|\n",
    "|lstsq|Ax=b를 만족하는 최소 제곱해 계산|"
   ]
  },
  {
   "cell_type": "markdown",
   "metadata": {},
   "source": [
    "### 난수 생성\n",
    "\n",
    "- `numpy.random` : 다양한 종류의 확률 분포로 부터 효과적으로 표본값 생성하는데 주로 사용\n",
    "- 파이썬 내장 `random`모듈은 한번에 하나의 값만 생성 가능하며, `numpy.random`의 경우 매우 큰 표본 생성시 파이썬보다 수십배 이상 빠름"
   ]
  },
  {
   "cell_type": "code",
   "execution_count": 37,
   "metadata": {},
   "outputs": [
    {
     "data": {
      "text/plain": [
       "array([[ 1.52069091,  0.33961323, -0.31298126,  0.77354896],\n",
       "       [-0.39923935,  0.52446529,  0.4553777 ,  2.24413406],\n",
       "       [ 0.13681727,  0.19855018,  0.0440792 ,  0.19667292],\n",
       "       [-1.73679426, -0.89783101,  2.57901406, -0.52169005]])"
      ]
     },
     "execution_count": 37,
     "metadata": {},
     "output_type": "execute_result"
    }
   ],
   "source": [
    "# normal을 사용하여 표준정규분포로 부터 4X4크기의 표본 생성\n",
    "\n",
    "samples = np.random.normal(size=(4,4))\n",
    "\n",
    "samples"
   ]
  },
  {
   "cell_type": "markdown",
   "metadata": {},
   "source": [
    "- numpy vs python"
   ]
  },
  {
   "cell_type": "code",
   "execution_count": 38,
   "metadata": {},
   "outputs": [],
   "source": [
    "from random import normalvariate\n",
    "\n",
    "N = 1000000"
   ]
  },
  {
   "cell_type": "code",
   "execution_count": 39,
   "metadata": {},
   "outputs": [
    {
     "name": "stdout",
     "output_type": "stream",
     "text": [
      "535 ms ± 13.9 ms per loop (mean ± std. dev. of 7 runs, 1 loop each)\n"
     ]
    }
   ],
   "source": [
    "%timeit samples = [normalvariate(0,1) for _ in range(N)]"
   ]
  },
  {
   "cell_type": "code",
   "execution_count": 40,
   "metadata": {},
   "outputs": [
    {
     "name": "stdout",
     "output_type": "stream",
     "text": [
      "23 ms ± 679 µs per loop (mean ± std. dev. of 7 runs, 10 loops each)\n"
     ]
    }
   ],
   "source": [
    "%timeit np.random.normal(size=N)"
   ]
  },
  {
   "cell_type": "markdown",
   "metadata": {},
   "source": [
    "- `np.random.seed()` : 시드값 지정 가능\n",
    "- `np.random.RandomState` : 다른 난수 생성기로부터 격리된 난수 생성기 생성"
   ]
  },
  {
   "cell_type": "code",
   "execution_count": 43,
   "metadata": {},
   "outputs": [],
   "source": [
    "np.random.seed(1)"
   ]
  },
  {
   "cell_type": "code",
   "execution_count": 44,
   "metadata": {},
   "outputs": [
    {
     "data": {
      "text/plain": [
       "array([ 0.47143516, -1.19097569,  1.43270697, -0.3126519 , -0.72058873,\n",
       "        0.88716294,  0.85958841, -0.6365235 ,  0.01569637, -2.24268495])"
      ]
     },
     "execution_count": 44,
     "metadata": {},
     "output_type": "execute_result"
    }
   ],
   "source": [
    "rng = np.random.RandomState(1234)\n",
    "rng.randn(10)"
   ]
  },
  {
   "cell_type": "markdown",
   "metadata": {},
   "source": [
    "- 일부 numpy.random함수\n",
    "\n",
    "|함수|설명|\n",
    "|:--|:--|\n",
    "|seed|난수 생성기의 시드 지정|\n",
    "|permutation|순서를 임의로 바꾸거나 임의의 순열 반환|\n",
    "|shuffle|리스트나 배열의 순서를 뒤섞음|\n",
    "|rand|균등분포에서 표본 추출|\n",
    "|randint|주어진 최소/최대 범위 안에서 임의의 난수 추출|\n",
    "|randn|표준편차가 1이고 평균값이 0인 정규분호(매트랩과 같은 방식)에서 표본 추출|\n",
    "|binomial|이항분포에서 표본 추출|\n",
    "|normal|정규분포(가우시안)에서 표본 추출|\n",
    "|beta|베타 분포에서 표본 추출|\n",
    "|chisquare|카이제곱분포에서 표본 추출|\n",
    "|gamma|감마분포에서 표본 추출|\n",
    "|uniform|균등(0,1) 분포에서 표본 추출|"
   ]
  },
  {
   "cell_type": "markdown",
   "metadata": {},
   "source": [
    "참고 자료\n",
    "> Python for Data Analysis(2019), 한빛미디어  \n",
    "> [MathWorks](https://kr.mathworks.com/help/matlab/ref/inv.html)"
   ]
  }
 ],
 "metadata": {
  "kernelspec": {
   "display_name": "Python 3",
   "language": "python",
   "name": "python3"
  },
  "language_info": {
   "codemirror_mode": {
    "name": "ipython",
    "version": 3
   },
   "file_extension": ".py",
   "mimetype": "text/x-python",
   "name": "python",
   "nbconvert_exporter": "python",
   "pygments_lexer": "ipython3",
   "version": "3.7.3"
  }
 },
 "nbformat": 4,
 "nbformat_minor": 2
}
