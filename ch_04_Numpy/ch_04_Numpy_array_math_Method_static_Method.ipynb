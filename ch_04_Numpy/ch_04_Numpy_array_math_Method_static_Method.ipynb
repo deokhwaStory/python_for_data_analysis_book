{
 "cells": [
  {
   "cell_type": "markdown",
   "metadata": {},
   "source": [
    "### 수학 메서드와 통계 메서드\n",
    "\n",
    "- 배열 전체 혹은 배열의 한축의 자료에 대한 통계를 계산하는 수학 함수는 배열 메서드로 사용 가능\n",
    "- 전체 합(sum), 평균(mean), 표준편차(std)는 numpy의 최상위 함수를 이용하거나 배열의 인스턴스 메서드를 사용해서 구할 수 있음"
   ]
  },
  {
   "cell_type": "code",
   "execution_count": 1,
   "metadata": {},
   "outputs": [
    {
     "data": {
      "text/plain": [
       "array([[[ 0,  1,  2,  3],\n",
       "        [ 4,  5,  6,  7]],\n",
       "\n",
       "       [[ 8,  9, 10, 11],\n",
       "        [12, 13, 14, 15]],\n",
       "\n",
       "       [[16, 17, 18, 19],\n",
       "        [20, 21, 22, 23]],\n",
       "\n",
       "       [[24, 25, 26, 27],\n",
       "        [28, 29, 30, 31]]])"
      ]
     },
     "execution_count": 1,
     "metadata": {},
     "output_type": "execute_result"
    }
   ],
   "source": [
    "arr = np.arange(0, 32).reshape([4,2,4])\n",
    "arr"
   ]
  },
  {
   "cell_type": "markdown",
   "metadata": {},
   "source": [
    "- mean, sum은 선택적으로 axis 인자 받아서 해당 axis에 대한 통계를 계산하고 한차수 낮은 배열 반환"
   ]
  },
  {
   "attachments": {},
   "cell_type": "markdown",
   "metadata": {},
   "source": [
    "![image.png](https://taewanmerepo.github.io/2017/09/numpy_axis/axis.jpg)"
   ]
  },
  {
   "cell_type": "markdown",
   "metadata": {},
   "source": [
    "- **axis=None** : 모든 요소의 값을 합산하여 1개을 스칼라값으로 반환"
   ]
  },
  {
   "cell_type": "code",
   "execution_count": 2,
   "metadata": {},
   "outputs": [
    {
     "data": {
      "text/plain": [
       "15.5"
      ]
     },
     "execution_count": 2,
     "metadata": {},
     "output_type": "execute_result"
    }
   ],
   "source": [
    "arr.mean()"
   ]
  },
  {
   "cell_type": "code",
   "execution_count": 3,
   "metadata": {},
   "outputs": [
    {
     "data": {
      "text/plain": [
       "15.5"
      ]
     },
     "execution_count": 3,
     "metadata": {},
     "output_type": "execute_result"
    }
   ],
   "source": [
    "np.mean(arr)"
   ]
  },
  {
   "cell_type": "code",
   "execution_count": 4,
   "metadata": {},
   "outputs": [
    {
     "data": {
      "text/plain": [
       "496"
      ]
     },
     "execution_count": 4,
     "metadata": {},
     "output_type": "execute_result"
    }
   ],
   "source": [
    "arr.sum()"
   ]
  },
  {
   "cell_type": "markdown",
   "metadata": {},
   "source": [
    "- **axis = 0** : x축 기준으로 여러 row를 1개로 합치는 과정"
   ]
  },
  {
   "cell_type": "code",
   "execution_count": 5,
   "metadata": {},
   "outputs": [
    {
     "data": {
      "text/plain": [
       "array([[48, 52, 56, 60],\n",
       "       [64, 68, 72, 76]])"
      ]
     },
     "execution_count": 5,
     "metadata": {},
     "output_type": "execute_result"
    }
   ],
   "source": [
    "arr.sum(axis=0)"
   ]
  },
  {
   "attachments": {},
   "cell_type": "markdown",
   "metadata": {},
   "source": [
    "![image.png](https://taewanmerepo.github.io/2017/09/numpy_axis/axis0-cube.jpg)"
   ]
  },
  {
   "attachments": {},
   "cell_type": "markdown",
   "metadata": {},
   "source": [
    "![image.png](https://taewanmerepo.github.io/2017/09/numpy_axis/axis0.png)\n",
    "\n",
    "axis=0 : \n",
    "가장 외각의 괄호를 제거하는 과정으로 생각하면 됨. 위와  같이 가장 외각의 괄호를 제거하고, 각 row에 데이터는 위치별로 합산. \n",
    "결과적으로 컬럼과 depth의 위치별 합이 계산됨."
   ]
  },
  {
   "cell_type": "markdown",
   "metadata": {},
   "source": [
    "- **axis=1**:  y축을 기준으로 row별로 존재하는 column들 값을 1개로 축소. y축 즉 컬럼을 합치는 합산. \n",
    "\n",
    "shape이 (4, 2, 4)인 데이터를 y축을 기준으로 합산하면 결과 shape은 컬럼을 제거한 (4, 4)가 반환. 각 row의 2개의 컴럼이 1개로 축소됨"
   ]
  },
  {
   "cell_type": "code",
   "execution_count": 6,
   "metadata": {},
   "outputs": [
    {
     "data": {
      "text/plain": [
       "array([[ 4,  6,  8, 10],\n",
       "       [20, 22, 24, 26],\n",
       "       [36, 38, 40, 42],\n",
       "       [52, 54, 56, 58]])"
      ]
     },
     "execution_count": 6,
     "metadata": {},
     "output_type": "execute_result"
    }
   ],
   "source": [
    "arr.sum(axis=1)"
   ]
  },
  {
   "attachments": {},
   "cell_type": "markdown",
   "metadata": {},
   "source": [
    "![image.png](https://taewanmerepo.github.io/2017/09/numpy_axis/axis1-cube.jpg)"
   ]
  },
  {
   "attachments": {},
   "cell_type": "markdown",
   "metadata": {},
   "source": [
    "![image.png](https://taewanmerepo.github.io/2017/09/numpy_axis/axis1.png)\n",
    "\n",
    "axis=1 :  가장 외각에서 두 번째 괄호를 제거. 위와 같이 각 row에서 컬럼을 구분하는 괄호를 제거하고, 각 컬럼의 데이터는 위치별로 합산. 결과적으로 row 별로 컬럼들의 depth 위치별 합이 계산됨"
   ]
  },
  {
   "cell_type": "markdown",
   "metadata": {},
   "source": [
    "- **axis=2** : z축을 기준으로 column의 depth가 가진 값을 축소하는 과정.  z축 dpeth 요소를 합치는 연산. \n",
    "\n",
    "shape이 (4, 2, 4)인 데이터를 z축을 기준으로 합산하면 결과 shape은 depth를 제거한 (4, 2)가 반환. 각 컬럼의 depth는 1개의 스칼라값으로 변환됨"
   ]
  },
  {
   "cell_type": "code",
   "execution_count": 7,
   "metadata": {},
   "outputs": [
    {
     "data": {
      "text/plain": [
       "array([[  6,  22],\n",
       "       [ 38,  54],\n",
       "       [ 70,  86],\n",
       "       [102, 118]])"
      ]
     },
     "execution_count": 7,
     "metadata": {},
     "output_type": "execute_result"
    }
   ],
   "source": [
    "arr.sum(axis=2)"
   ]
  },
  {
   "attachments": {},
   "cell_type": "markdown",
   "metadata": {},
   "source": [
    "![image.png](https://taewanmerepo.github.io/2017/09/numpy_axis/axis2-cube.jpg)"
   ]
  },
  {
   "attachments": {},
   "cell_type": "markdown",
   "metadata": {},
   "source": [
    "![image.png](https://taewanmerepo.github.io/2017/09/numpy_axis/axis2.png)\n",
    "\n",
    "axis=2 : depth를 묶는 괄호를 제거. 위와 같이 각 column에서 Depth를 구분하는 괄호를 제거하고, 모든 Depth 요소를 합산. 결과적으로 예제에서 각 row의 컬럼들은 1개의 스칼라값으로 변환함"
   ]
  },
  {
   "cell_type": "code",
   "execution_count": 8,
   "metadata": {},
   "outputs": [
    {
     "data": {
      "text/plain": [
       "array([[ 2.,  3.,  4.,  5.],\n",
       "       [10., 11., 12., 13.],\n",
       "       [18., 19., 20., 21.],\n",
       "       [26., 27., 28., 29.]])"
      ]
     },
     "execution_count": 8,
     "metadata": {},
     "output_type": "execute_result"
    }
   ],
   "source": [
    "arr.mean(axis=1) "
   ]
  },
  {
   "cell_type": "code",
   "execution_count": 9,
   "metadata": {},
   "outputs": [
    {
     "data": {
      "text/plain": [
       "array([[ 0.92424365, -0.05903619,  0.45926123, -1.23651603],\n",
       "       [-0.48793703, -1.85780293,  0.09680494,  0.42031649],\n",
       "       [ 0.58001308,  0.34758113, -0.73603482,  0.15163727],\n",
       "       [-0.02097313, -2.49776869, -0.28850793, -0.15310245],\n",
       "       [-0.80345158, -0.66143591,  2.25783496,  0.80276558]])"
      ]
     },
     "execution_count": 9,
     "metadata": {},
     "output_type": "execute_result"
    }
   ],
   "source": [
    "arr= np.random.randn(5,4)\n",
    "arr"
   ]
  },
  {
   "cell_type": "code",
   "execution_count": 10,
   "metadata": {},
   "outputs": [
    {
     "data": {
      "text/plain": [
       "-0.1381054172871518"
      ]
     },
     "execution_count": 10,
     "metadata": {},
     "output_type": "execute_result"
    }
   ],
   "source": [
    "arr.mean()"
   ]
  },
  {
   "cell_type": "code",
   "execution_count": 11,
   "metadata": {},
   "outputs": [
    {
     "data": {
      "text/plain": [
       "-0.1381054172871518"
      ]
     },
     "execution_count": 11,
     "metadata": {},
     "output_type": "execute_result"
    }
   ],
   "source": [
    "np.mean(arr)"
   ]
  },
  {
   "cell_type": "code",
   "execution_count": 12,
   "metadata": {},
   "outputs": [
    {
     "data": {
      "text/plain": [
       "-2.762108345743036"
      ]
     },
     "execution_count": 12,
     "metadata": {},
     "output_type": "execute_result"
    }
   ],
   "source": [
    "arr.sum()"
   ]
  },
  {
   "cell_type": "code",
   "execution_count": 13,
   "metadata": {},
   "outputs": [
    {
     "data": {
      "text/plain": [
       "array([ 0.02198817, -0.45715463,  0.08579916, -0.74008805,  0.39892826])"
      ]
     },
     "execution_count": 13,
     "metadata": {},
     "output_type": "execute_result"
    }
   ],
   "source": [
    "arr.mean(axis=1)"
   ]
  },
  {
   "cell_type": "code",
   "execution_count": 14,
   "metadata": {},
   "outputs": [
    {
     "data": {
      "text/plain": [
       "array([ 0.19189499, -4.72846259,  1.7893584 , -0.01489914])"
      ]
     },
     "execution_count": 14,
     "metadata": {},
     "output_type": "execute_result"
    }
   ],
   "source": [
    "arr.sum(axis=0)"
   ]
  },
  {
   "cell_type": "markdown",
   "metadata": {},
   "source": [
    "- `cumsum`, `cumprod` : 중간 계산 값 담는 배열 반환"
   ]
  },
  {
   "cell_type": "code",
   "execution_count": 15,
   "metadata": {},
   "outputs": [
    {
     "data": {
      "text/plain": [
       "array([ 1,  3,  6, 10, 15, 21, 28])"
      ]
     },
     "execution_count": 15,
     "metadata": {},
     "output_type": "execute_result"
    }
   ],
   "source": [
    "arr = np.array([1,2,3,4,5,6,7])\n",
    "\n",
    "arr.cumsum()"
   ]
  },
  {
   "cell_type": "markdown",
   "metadata": {},
   "source": [
    "- `cumsum` : 같은 크기의 배열 반환하나, 축 지정하여 부분적으로 계산하면 낮은 차수의 슬라이스 반환함"
   ]
  },
  {
   "cell_type": "code",
   "execution_count": 16,
   "metadata": {},
   "outputs": [
    {
     "data": {
      "text/plain": [
       "array([[0, 1, 2],\n",
       "       [3, 4, 5],\n",
       "       [6, 7, 8]])"
      ]
     },
     "execution_count": 16,
     "metadata": {},
     "output_type": "execute_result"
    }
   ],
   "source": [
    "arr = np.array([[0,1,2], [3,4,5], [6,7,8]])\n",
    "\n",
    "arr"
   ]
  },
  {
   "cell_type": "code",
   "execution_count": 17,
   "metadata": {},
   "outputs": [
    {
     "data": {
      "text/plain": [
       "array([[ 0,  1,  2],\n",
       "       [ 3,  5,  7],\n",
       "       [ 9, 12, 15]])"
      ]
     },
     "execution_count": 17,
     "metadata": {},
     "output_type": "execute_result"
    }
   ],
   "source": [
    "arr.cumsum(axis = 0)"
   ]
  },
  {
   "cell_type": "code",
   "execution_count": 18,
   "metadata": {},
   "outputs": [
    {
     "data": {
      "text/plain": [
       "array([[  0,   0,   0],\n",
       "       [  3,  12,  60],\n",
       "       [  6,  42, 336]])"
      ]
     },
     "execution_count": 18,
     "metadata": {},
     "output_type": "execute_result"
    }
   ],
   "source": [
    "arr.cumprod(axis=1)"
   ]
  },
  {
   "cell_type": "markdown",
   "metadata": {},
   "source": [
    "- 기본 배열 통계 메서드\n",
    "\n",
    "|메서드|설명|\n",
    "|:--|:--|\n",
    "|sum|배열 전체 혹은 특정 축에 대한 모든 원소의 합 계산. 크기가 0인 배열에 대한 sum결과는 0|\n",
    "|mean|산술 평균을 구함. 크기가 0인 배열에 대한 mean 결과는 NaN|\n",
    "|std, var|각각 표준편차(std)와 분산(var)구함. 선택적으로 지유도를 줄 수 있으며 분모의 기본값은 n임|\n",
    "|min, max|최소값, 최대값|\n",
    "|argmin, argmax|최소 원소의 색인값과 최대 원소의 색인값|\n",
    "|cumsum|각 원소의 누적값|\n",
    "|cumprod|각 원소의 누적곱|"
   ]
  },
  {
   "cell_type": "markdown",
   "metadata": {},
   "source": [
    "### 불리언 배열을 위한 메서드\n",
    "\n",
    "- boolean값을 1(True) 또는 0(False)로 강제 가능\n",
    "- sum메서드 실행하면 boolean인 원소의 갯수 셀 수 있음"
   ]
  },
  {
   "cell_type": "code",
   "execution_count": 19,
   "metadata": {},
   "outputs": [],
   "source": [
    "arr = np.random.randn(100)"
   ]
  },
  {
   "cell_type": "code",
   "execution_count": 20,
   "metadata": {},
   "outputs": [
    {
     "data": {
      "text/plain": [
       "43"
      ]
     },
     "execution_count": 20,
     "metadata": {},
     "output_type": "execute_result"
    }
   ],
   "source": [
    "(arr > 0).sum()"
   ]
  },
  {
   "cell_type": "markdown",
   "metadata": {},
   "source": [
    "- `any` 메서드 : 하나 이상의 값이 True인지 검사\n",
    "- `all`메서드: 모든 원소가 True인지 검사\n",
    "\n",
    "- `any`, `all`메서드 : boolean 배열에 유용. boolean배열이 아니어도 동작하며 0아닌 원소는 모두 True로 간주됨"
   ]
  },
  {
   "cell_type": "code",
   "execution_count": 21,
   "metadata": {},
   "outputs": [
    {
     "data": {
      "text/plain": [
       "True"
      ]
     },
     "execution_count": 21,
     "metadata": {},
     "output_type": "execute_result"
    }
   ],
   "source": [
    "bools = np.array([False, False, True, False])\n",
    "\n",
    "bools.any()"
   ]
  },
  {
   "cell_type": "code",
   "execution_count": 22,
   "metadata": {},
   "outputs": [
    {
     "data": {
      "text/plain": [
       "False"
      ]
     },
     "execution_count": 22,
     "metadata": {},
     "output_type": "execute_result"
    }
   ],
   "source": [
    "bools.all()"
   ]
  },
  {
   "cell_type": "markdown",
   "metadata": {},
   "source": [
    "참고 자료\n",
    "> Python for Data Analysis(2019), 한빛미디어  \n",
    "> [Numpy에서 np.sum 함수의 axis 이해](http://taewan.kim/post/numpy_sum_axis/)"
   ]
  }
 ],
 "metadata": {
  "kernelspec": {
   "display_name": "Python 3",
   "language": "python",
   "name": "python3"
  },
  "language_info": {
   "codemirror_mode": {
    "name": "ipython",
    "version": 3
   },
   "file_extension": ".py",
   "mimetype": "text/x-python",
   "name": "python",
   "nbconvert_exporter": "python",
   "pygments_lexer": "ipython3",
   "version": "3.7.3"
  }
 },
 "nbformat": 4,
 "nbformat_minor": 2
}
