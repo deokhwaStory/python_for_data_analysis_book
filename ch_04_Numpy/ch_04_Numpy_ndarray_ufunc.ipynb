{
 "cells": [
  {
   "cell_type": "markdown",
   "metadata": {},
   "source": [
    "#### 유니버셜 함수 : 배열의 각 원소를 빠르게 처리하는 함수\n",
    "\n",
    "- `ufunc` : \n",
    "    - 유니버셜 함수\n",
    "    - ndarray안에 있는 데이터 원소별로 연산을 수행\n",
    "    - 하나 이상의 스칼라 값을 받아서 하나 이상의 스칼라 결과값을 반환하는 간단한 함수를 고속으로 수행하는 벡터화된 래퍼 함수\n",
    "    - 많은 ufunc는 `sqrt`나 `exp` 같은 간단한 변형을 전체 원소에 적용 가능"
   ]
  },
  {
   "cell_type": "markdown",
   "metadata": {},
   "source": [
    "- 단항 유니버셜 함수 "
   ]
  },
  {
   "cell_type": "code",
   "execution_count": 1,
   "metadata": {},
   "outputs": [
    {
     "data": {
      "text/plain": [
       "array([0, 1, 2, 3, 4, 5, 6, 7, 8, 9])"
      ]
     },
     "execution_count": 1,
     "metadata": {},
     "output_type": "execute_result"
    }
   ],
   "source": [
    "arr = np.arange(10)\n",
    "\n",
    "arr"
   ]
  },
  {
   "cell_type": "code",
   "execution_count": 2,
   "metadata": {},
   "outputs": [
    {
     "data": {
      "text/plain": [
       "array([0.        , 1.        , 1.41421356, 1.73205081, 2.        ,\n",
       "       2.23606798, 2.44948974, 2.64575131, 2.82842712, 3.        ])"
      ]
     },
     "execution_count": 2,
     "metadata": {},
     "output_type": "execute_result"
    }
   ],
   "source": [
    "np.sqrt(arr)  # sqrt : 제곱근(루트)을 계산"
   ]
  },
  {
   "cell_type": "code",
   "execution_count": 3,
   "metadata": {},
   "outputs": [
    {
     "data": {
      "text/plain": [
       "array([1.00000000e+00, 2.71828183e+00, 7.38905610e+00, 2.00855369e+01,\n",
       "       5.45981500e+01, 1.48413159e+02, 4.03428793e+02, 1.09663316e+03,\n",
       "       2.98095799e+03, 8.10308393e+03])"
      ]
     },
     "execution_count": 3,
     "metadata": {},
     "output_type": "execute_result"
    }
   ],
   "source": [
    "np.exp(arr) # exp : 지수를 계산"
   ]
  },
  {
   "cell_type": "markdown",
   "metadata": {},
   "source": [
    "- 이향 유니버셜 함수 : 2개 인자를 취해 단일 배열을 반환하는 함수. 예) add, maximun"
   ]
  },
  {
   "cell_type": "code",
   "execution_count": 4,
   "metadata": {},
   "outputs": [],
   "source": [
    "x = np.random.randn(8)\n",
    "y = np.random.randn(8)"
   ]
  },
  {
   "cell_type": "code",
   "execution_count": 5,
   "metadata": {},
   "outputs": [
    {
     "data": {
      "text/plain": [
       "array([-0.15990332,  1.1909553 , -1.79216591, -0.63382526,  0.89270505,\n",
       "       -0.69899101,  1.31738458, -0.10359897])"
      ]
     },
     "execution_count": 5,
     "metadata": {},
     "output_type": "execute_result"
    }
   ],
   "source": [
    "x"
   ]
  },
  {
   "cell_type": "code",
   "execution_count": 6,
   "metadata": {},
   "outputs": [
    {
     "data": {
      "text/plain": [
       "array([-1.11119864,  1.40664653, -2.03291066, -1.05345129,  1.69598676,\n",
       "       -0.0577022 ,  0.52414219,  0.7302534 ])"
      ]
     },
     "execution_count": 6,
     "metadata": {},
     "output_type": "execute_result"
    }
   ],
   "source": [
    "y"
   ]
  },
  {
   "cell_type": "code",
   "execution_count": 7,
   "metadata": {},
   "outputs": [
    {
     "data": {
      "text/plain": [
       "array([-0.15990332,  1.40664653, -1.79216591, -0.63382526,  1.69598676,\n",
       "       -0.0577022 ,  1.31738458,  0.7302534 ])"
      ]
     },
     "execution_count": 7,
     "metadata": {},
     "output_type": "execute_result"
    }
   ],
   "source": [
    "np.maximum(x, y) # x, y 의 같은 위치에서의 최대값을 배열로 출력"
   ]
  },
  {
   "cell_type": "markdown",
   "metadata": {},
   "source": [
    "- `modf` : 파이썬 내장함수인 `divmod`의 벡터화 버전. 분수를 받아서 몫과 나머지 함께 반환"
   ]
  },
  {
   "cell_type": "code",
   "execution_count": 9,
   "metadata": {},
   "outputs": [
    {
     "data": {
      "text/plain": [
       "array([-5.32921971, -2.97664971,  3.99893798, -1.95782649, -9.95167616,\n",
       "        5.59790676,  3.18158622])"
      ]
     },
     "execution_count": 9,
     "metadata": {},
     "output_type": "execute_result"
    }
   ],
   "source": [
    "arr = np.random.randn(7) * 5\n",
    "arr"
   ]
  },
  {
   "cell_type": "code",
   "execution_count": 10,
   "metadata": {},
   "outputs": [],
   "source": [
    "remainder, whole_part = np.modf(arr)"
   ]
  },
  {
   "cell_type": "code",
   "execution_count": 11,
   "metadata": {},
   "outputs": [
    {
     "data": {
      "text/plain": [
       "array([-0.32921971, -0.97664971,  0.99893798, -0.95782649, -0.95167616,\n",
       "        0.59790676,  0.18158622])"
      ]
     },
     "execution_count": 11,
     "metadata": {},
     "output_type": "execute_result"
    }
   ],
   "source": [
    "remainder"
   ]
  },
  {
   "cell_type": "code",
   "execution_count": 12,
   "metadata": {},
   "outputs": [
    {
     "data": {
      "text/plain": [
       "array([-5., -2.,  3., -1., -9.,  5.,  3.])"
      ]
     },
     "execution_count": 12,
     "metadata": {},
     "output_type": "execute_result"
    }
   ],
   "source": [
    "whole_part"
   ]
  },
  {
   "cell_type": "markdown",
   "metadata": {},
   "source": [
    "- `out` : 선택적으로 `out`인자를 취하여 계산 결과를 따로 저장 가능"
   ]
  },
  {
   "cell_type": "code",
   "execution_count": 13,
   "metadata": {},
   "outputs": [
    {
     "data": {
      "text/plain": [
       "array([-5.32921971, -2.97664971,  3.99893798, -1.95782649, -9.95167616,\n",
       "        5.59790676,  3.18158622])"
      ]
     },
     "execution_count": 13,
     "metadata": {},
     "output_type": "execute_result"
    }
   ],
   "source": [
    "arr"
   ]
  },
  {
   "cell_type": "code",
   "execution_count": 14,
   "metadata": {},
   "outputs": [
    {
     "data": {
      "text/plain": [
       "array([       nan,        nan, 1.99973448,        nan,        nan,\n",
       "       2.36598959, 1.78370015])"
      ]
     },
     "execution_count": 14,
     "metadata": {},
     "output_type": "execute_result"
    }
   ],
   "source": [
    "np.sqrt(arr)"
   ]
  },
  {
   "cell_type": "code",
   "execution_count": 15,
   "metadata": {},
   "outputs": [
    {
     "data": {
      "text/plain": [
       "array([       nan,        nan, 1.99973448,        nan,        nan,\n",
       "       2.36598959, 1.78370015])"
      ]
     },
     "execution_count": 15,
     "metadata": {},
     "output_type": "execute_result"
    }
   ],
   "source": [
    "np.sqrt(arr, arr)"
   ]
  },
  {
   "cell_type": "code",
   "execution_count": 16,
   "metadata": {},
   "outputs": [
    {
     "data": {
      "text/plain": [
       "array([       nan,        nan, 1.99973448,        nan,        nan,\n",
       "       2.36598959, 1.78370015])"
      ]
     },
     "execution_count": 16,
     "metadata": {},
     "output_type": "execute_result"
    }
   ],
   "source": [
    "arr"
   ]
  },
  {
   "cell_type": "markdown",
   "metadata": {},
   "source": [
    "- 단항 유니버셜 함수\n",
    "\n",
    "|함수|설명|\n",
    "|:--|:--|\n",
    "|abs, fabs|각 원소(정수, 부동소수점수, 복소수)의 절대값. 복소수가 아닌 경우에 빠른 연산을 위해 fabs사용|\n",
    "|sqrt|각 원소의 제곱근. arr ** 0.5와 동일|\n",
    "|square|각 원소의 제곱. arr\\*\\*2와 동일|\n",
    "|exp|각 원소의 지수 'e'|\n",
    "|log, log10, log2, log1p|각각 자연로그, 로그 10, 로그 2, 로그(1+x)|\n",
    "|sign|각원소의 부호 계산. 1(양수), 0(영), -1(음수)|\n",
    "|ceil|각 원소의 소수자리 올림. 각 원소의 값보다 길거나 큰 정수 중 가장 작은 정수 반환|\n",
    "|floor|각 원소의 소수자리 내림. 각 원소의 값보다 적거나 같은 정수 중 가장 작은 정수 반환|\n",
    "|rint|각 원소의 소수자리를 반올림. dtype은 유지|\n",
    "|modf|각 원소의 몫과 나머지를 각각의 배열로 반환|\n",
    "|isnan|각 원소가 숫자가 아닌지(NaN, Not a Number)를 나타내는 불리언 배열 반환|\n",
    "|isfinite, isinf|각각 배열의 각 원소가 유한한지(non-inf, non-NaN), 무한한지 불리언 배열로 반환|\n",
    "|cos, cosh, sin, sinh, tan, tanh|일반 삼각함수의 쌍곡삼각함수|\n",
    "|arccos, arccosh, arcsin, arcsinh, arctan, arctanh|역삼각함수|\n",
    "|logical_not|각 원소의 논리 부정(not)값을 계산함. -arr과 동일|"
   ]
  },
  {
   "cell_type": "markdown",
   "metadata": {},
   "source": [
    "- 이항 유니버셜 함수\n",
    "\n",
    "|함수|설명|\n",
    "|:--|:--|\n",
    "|add|두 배열에서 같은 위치의 원소끼리 더함|\n",
    "|subtract|첫번째 배열의 원소에서 두번째 배열의 원소를 뺌|\n",
    "|multiply|배열의 원소끼리 곱함|\n",
    "|divide, floor_divide|첫번째 배열의 원소를 두번째 배열의 원소로 나눔. floor_divide는 몫만 취함|\n",
    "|power|첫번째 배열의 원소를 두번째 배열의 원소만큼 제곱|\n",
    "|maximum, fmax|각 배열의 두 원소 중 큰 값을 반환. fmax는 NaN을 무시함|\n",
    "|minimum, fmin|각 배열의 두 원소 중 작은 값을 반환. fmin은 NaN을 무시함|\n",
    "|mod|첫번째 배열의 원소를 두번째 배열의 원소로 나눈 나머지를 구함|\n",
    "|copysign|첫번째 배열의 원소의 기호를 두번째 배열의 원소의 기호로 바꿈|\n",
    "|greater, greater_equal, less, less_equal, equal, not_equal|각각 두 원소간의 >,>=,<=,==,!= 비교연산 결과를 불리언 배열로 반환|\n",
    "|logical_and, logical_or, logical_xor|각각 두 원소 간의 &,\\|,\\^ 논리 연산 결과를 반환|"
   ]
  },
  {
   "cell_type": "markdown",
   "metadata": {},
   "source": [
    "참고 자료\n",
    "> Python for Data Analysis(2019), 한빛미디어"
   ]
  }
 ],
 "metadata": {
  "kernelspec": {
   "display_name": "Python 3",
   "language": "python",
   "name": "python3"
  },
  "language_info": {
   "codemirror_mode": {
    "name": "ipython",
    "version": 3
   },
   "file_extension": ".py",
   "mimetype": "text/x-python",
   "name": "python",
   "nbconvert_exporter": "python",
   "pygments_lexer": "ipython3",
   "version": "3.7.3"
  }
 },
 "nbformat": 4,
 "nbformat_minor": 2
}
