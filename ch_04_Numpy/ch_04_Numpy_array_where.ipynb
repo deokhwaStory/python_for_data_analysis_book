{
 "cells": [
  {
   "cell_type": "markdown",
   "metadata": {},
   "source": [
    "### 배열 연산으로 조건절 표현\n",
    "\n",
    "- numpy.where : x if 조건 else y 같은 삼항식의 벡터화 버젼"
   ]
  },
  {
   "cell_type": "code",
   "execution_count": 1,
   "metadata": {},
   "outputs": [],
   "source": [
    "xarr = np.array([1.1, 1.2,  1.3, 1.4, 1.5])\n",
    "yarr = np.array([2.1, 2.2,  2.3, 2.4, 2.5])\n",
    "cond = np.array([True, False, True, True, False])"
   ]
  },
  {
   "cell_type": "code",
   "execution_count": 2,
   "metadata": {},
   "outputs": [
    {
     "data": {
      "text/plain": [
       "[1.1, 2.2, 1.3, 1.4, 2.5]"
      ]
     },
     "execution_count": 2,
     "metadata": {},
     "output_type": "execute_result"
    }
   ],
   "source": [
    "# cond값이 True일때 xarr 가지고 아닐때는 yarr값 가지는 리스트 표기법\n",
    "\n",
    "# 방법 1\n",
    "result = [(x if c else y)\n",
    "         for x, y, c in zip(xarr, yarr, cond)]\n",
    "result"
   ]
  },
  {
   "cell_type": "code",
   "execution_count": 3,
   "metadata": {},
   "outputs": [
    {
     "data": {
      "text/plain": [
       "array([1.1, 2.2, 1.3, 1.4, 2.5])"
      ]
     },
     "execution_count": 3,
     "metadata": {},
     "output_type": "execute_result"
    }
   ],
   "source": [
    "# 방법 2\n",
    "result = np.where(cond, xarr, yarr)\n",
    "result"
   ]
  },
  {
   "cell_type": "markdown",
   "metadata": {},
   "source": [
    "- np.where :\n",
    "    - 2,3번째 인자는 배열이 아니여도 됨, 둘 중 혹은 둘 다 스칼라값이어도 가능\n",
    "    - 데이터 분석에서 일반적인 where의 사용은 다른 배열에 기반한 새로운 배열 생성함."
   ]
  },
  {
   "cell_type": "code",
   "execution_count": 4,
   "metadata": {},
   "outputs": [
    {
     "data": {
      "text/plain": [
       "array([[-1.10831613e+00, -1.02007106e+00,  7.98316516e-01,\n",
       "         1.56223647e-01],\n",
       "       [ 1.43292763e-03,  9.10780005e-02, -1.09376328e+00,\n",
       "        -1.28291065e-03],\n",
       "       [-3.46122770e-01,  1.19176537e+00, -3.17295787e-01,\n",
       "         7.42959103e-01],\n",
       "       [ 1.06800475e+00, -1.07463244e+00, -3.77610955e-01,\n",
       "        -1.71546209e+00]])"
      ]
     },
     "execution_count": 4,
     "metadata": {},
     "output_type": "execute_result"
    }
   ],
   "source": [
    "# 임의로 생성된 데이터가 들어있는 행렬이 있고 양수는 모두 2로, 음수는 모두 -2로 처리\n",
    "arr = np.random.randn(4, 4)\n",
    "\n",
    "arr"
   ]
  },
  {
   "cell_type": "code",
   "execution_count": 5,
   "metadata": {},
   "outputs": [
    {
     "data": {
      "text/plain": [
       "array([[False, False,  True,  True],\n",
       "       [ True,  True, False, False],\n",
       "       [False,  True, False,  True],\n",
       "       [ True, False, False, False]])"
      ]
     },
     "execution_count": 5,
     "metadata": {},
     "output_type": "execute_result"
    }
   ],
   "source": [
    "arr > 0"
   ]
  },
  {
   "cell_type": "code",
   "execution_count": 6,
   "metadata": {},
   "outputs": [
    {
     "data": {
      "text/plain": [
       "array([[-2, -2,  2,  2],\n",
       "       [ 2,  2, -2, -2],\n",
       "       [-2,  2, -2,  2],\n",
       "       [ 2, -2, -2, -2]])"
      ]
     },
     "execution_count": 6,
     "metadata": {},
     "output_type": "execute_result"
    }
   ],
   "source": [
    "np.where( arr > 0, 2, -2)"
   ]
  },
  {
   "cell_type": "markdown",
   "metadata": {},
   "source": [
    "- np.where : \n",
    "    - 스칼라값과 배열을 조합할 수 있음. \n",
    "    - np.where로 넘기는 배열은 그냥 크기만 같은 배열이거나 스칼라값이 될 수 있음"
   ]
  },
  {
   "cell_type": "code",
   "execution_count": 7,
   "metadata": {},
   "outputs": [
    {
     "data": {
      "text/plain": [
       "array([[-1.10831613e+00, -1.02007106e+00,  2.00000000e+00,\n",
       "         2.00000000e+00],\n",
       "       [ 2.00000000e+00,  2.00000000e+00, -1.09376328e+00,\n",
       "        -1.28291065e-03],\n",
       "       [-3.46122770e-01,  2.00000000e+00, -3.17295787e-01,\n",
       "         2.00000000e+00],\n",
       "       [ 2.00000000e+00, -1.07463244e+00, -3.77610955e-01,\n",
       "        -1.71546209e+00]])"
      ]
     },
     "execution_count": 7,
     "metadata": {},
     "output_type": "execute_result"
    }
   ],
   "source": [
    "# arr의 모든 양수를 2로 바꿈\n",
    "np.where(arr>0, 2, arr)  # 양수인 경우에만 2를 대입"
   ]
  },
  {
   "cell_type": "markdown",
   "metadata": {},
   "source": [
    "참고 자료\n",
    "> Python for Data Analysis(2019), 한빛미디어  "
   ]
  }
 ],
 "metadata": {
  "kernelspec": {
   "display_name": "Python 3",
   "language": "python",
   "name": "python3"
  },
  "language_info": {
   "codemirror_mode": {
    "name": "ipython",
    "version": 3
   },
   "file_extension": ".py",
   "mimetype": "text/x-python",
   "name": "python",
   "nbconvert_exporter": "python",
   "pygments_lexer": "ipython3",
   "version": "3.7.3"
  }
 },
 "nbformat": 4,
 "nbformat_minor": 2
}
