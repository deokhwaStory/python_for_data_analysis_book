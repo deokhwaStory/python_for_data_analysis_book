{
 "cells": [
  {
   "cell_type": "markdown",
   "metadata": {},
   "source": [
    "#### if, elif, else"
   ]
  },
  {
   "cell_type": "code",
   "execution_count": 1,
   "metadata": {},
   "outputs": [
    {
     "name": "stdout",
     "output_type": "stream",
     "text": [
      "it's negative\n"
     ]
    }
   ],
   "source": [
    "# if는 조건이 true일 경우만 수행\n",
    "x  = -1\n",
    "\n",
    "if x < 0 :\n",
    "    print('it\\'s negative')"
   ]
  },
  {
   "cell_type": "code",
   "execution_count": 2,
   "metadata": {},
   "outputs": [
    {
     "name": "stdout",
     "output_type": "stream",
     "text": [
      "Positive and larger than or equal to 5\n"
     ]
    }
   ],
   "source": [
    "x  = 10\n",
    "\n",
    "if x < 0 :\n",
    "    print('it\\'s negative')\n",
    "elif x == 0 :\n",
    "    print('Equal to zero')\n",
    "elif 0 < x < 5 :\n",
    "    print('Positive but smaller than 5')\n",
    "else : \n",
    "    print('Positive and larger than or equal to 5')"
   ]
  },
  {
   "cell_type": "code",
   "execution_count": 3,
   "metadata": {},
   "outputs": [],
   "source": [
    "a = 5; b = 7\n",
    "c = 8 ; d = 4"
   ]
  },
  {
   "cell_type": "code",
   "execution_count": 4,
   "metadata": {},
   "outputs": [
    {
     "name": "stdout",
     "output_type": "stream",
     "text": [
      "Made it\n"
     ]
    }
   ],
   "source": [
    "# and, or과 함께 사용하면 이 조건이 왼쪽에서 오른쪽 순서로 검사하면서 조건 부합하는 시점에서 검사 종료됨\n",
    "\n",
    "if a < b or c == d : \n",
    "    print('Made it')"
   ]
  },
  {
   "cell_type": "markdown",
   "metadata": {},
   "source": [
    "#### for\n",
    "\n",
    "- 리스트나 튜플 같은 컬렉션이나 이터레이터 를 순회하며 실행\n",
    "\n",
    "```python\n",
    "for value in collection :\n",
    "    # value를 이용하는 코드 작성\n",
    "```"
   ]
  },
  {
   "cell_type": "markdown",
   "metadata": {},
   "source": [
    "continue 예약어 사용해 남은 블록을 건너뛰고 다음 순회로 넘어갈 수 있음"
   ]
  },
  {
   "cell_type": "code",
   "execution_count": 5,
   "metadata": {},
   "outputs": [
    {
     "data": {
      "text/plain": [
       "12"
      ]
     },
     "execution_count": 5,
     "metadata": {},
     "output_type": "execute_result"
    }
   ],
   "source": [
    "sequence = [1, 2, None, 4, None, 5]\n",
    "total = 0\n",
    "\n",
    "for value in sequence :\n",
    "    if value is None :\n",
    "        continue\n",
    "    total += value\n",
    "\n",
    "total"
   ]
  },
  {
   "cell_type": "markdown",
   "metadata": {},
   "source": [
    "break 예약어 사용해 빠져나갈 수 있음"
   ]
  },
  {
   "cell_type": "code",
   "execution_count": 6,
   "metadata": {},
   "outputs": [
    {
     "data": {
      "text/plain": [
       "7"
      ]
     },
     "execution_count": 6,
     "metadata": {},
     "output_type": "execute_result"
    }
   ],
   "source": [
    "sequence = [1, 2, 0, 4, 6, 5, 2, 1]\n",
    "total_until_5 = 0\n",
    "\n",
    "for value in sequence :\n",
    "    if value == 6 :\n",
    "        break\n",
    "    total_until_5  += value\n",
    "\n",
    "total_until_5"
   ]
  },
  {
   "cell_type": "markdown",
   "metadata": {},
   "source": [
    "반복문 안의 break 예약어는 해당 반복문만 빠져나가며 전체 반복문은 모두 실행됨"
   ]
  },
  {
   "cell_type": "code",
   "execution_count": 7,
   "metadata": {},
   "outputs": [
    {
     "name": "stdout",
     "output_type": "stream",
     "text": [
      "(0, 0)\n",
      "(1, 0)\n",
      "(1, 1)\n",
      "(2, 0)\n",
      "(2, 1)\n",
      "(2, 2)\n",
      "(3, 0)\n",
      "(3, 1)\n",
      "(3, 2)\n",
      "(3, 3)\n"
     ]
    }
   ],
   "source": [
    "for i in range(4) :\n",
    "    for j in range(4) :\n",
    "        if j > i :\n",
    "            break\n",
    "        print((i, j))"
   ]
  },
  {
   "cell_type": "markdown",
   "metadata": {},
   "source": [
    "컬렉션의 원소나 이터레이터가 순차적인 자료(예를 들면 튜플이나 리스트)라면 for문 안에서 여러개의 변수 꺼낼 수 있음"
   ]
  },
  {
   "cell_type": "markdown",
   "metadata": {},
   "source": [
    "```python\n",
    "for a, b, c in iterator :\n",
    "        # 필요한 코드 작성\n",
    "```"
   ]
  },
  {
   "cell_type": "markdown",
   "metadata": {},
   "source": [
    "#### while"
   ]
  },
  {
   "cell_type": "code",
   "execution_count": 8,
   "metadata": {},
   "outputs": [
    {
     "data": {
      "text/plain": [
       "504"
      ]
     },
     "execution_count": 8,
     "metadata": {},
     "output_type": "execute_result"
    }
   ],
   "source": [
    "x = 256\n",
    "total = 0\n",
    "\n",
    "while x > 0 :\n",
    "    if total > 500 :\n",
    "        break\n",
    "    total += x\n",
    "    x = x // 2\n",
    "    \n",
    "total"
   ]
  },
  {
   "cell_type": "markdown",
   "metadata": {},
   "source": [
    "#### range\n",
    "\n",
    "- 연속된 정수를 넘겨주는 이터레이터를 반환함\n",
    "- 마지막 값 바로 이전 정수까지의 값 반환\n",
    "- 일반적으로 색인으로 시퀀스를 반복하기위해 사용"
   ]
  },
  {
   "cell_type": "code",
   "execution_count": 9,
   "metadata": {},
   "outputs": [
    {
     "data": {
      "text/plain": [
       "range(0, 10)"
      ]
     },
     "execution_count": 9,
     "metadata": {},
     "output_type": "execute_result"
    }
   ],
   "source": [
    "range(10)"
   ]
  },
  {
   "cell_type": "code",
   "execution_count": 10,
   "metadata": {},
   "outputs": [
    {
     "data": {
      "text/plain": [
       "[0, 1, 2, 3, 4, 5, 6, 7, 8, 9]"
      ]
     },
     "execution_count": 10,
     "metadata": {},
     "output_type": "execute_result"
    }
   ],
   "source": [
    "list(range(10))"
   ]
  },
  {
   "cell_type": "code",
   "execution_count": 11,
   "metadata": {},
   "outputs": [
    {
     "data": {
      "text/plain": [
       "[0, 2, 4, 6, 8, 10, 12, 14, 16, 18]"
      ]
     },
     "execution_count": 11,
     "metadata": {},
     "output_type": "execute_result"
    }
   ],
   "source": [
    "# start, end, step(음수 가능)\n",
    "list(range(0, 20, 2))"
   ]
  },
  {
   "cell_type": "code",
   "execution_count": 12,
   "metadata": {},
   "outputs": [
    {
     "data": {
      "text/plain": [
       "[20, 18, 16, 14, 12, 10, 8, 6, 4, 2]"
      ]
     },
     "execution_count": 12,
     "metadata": {},
     "output_type": "execute_result"
    }
   ],
   "source": [
    "list(range(20, 0, -2))"
   ]
  },
  {
   "cell_type": "code",
   "execution_count": 13,
   "metadata": {},
   "outputs": [],
   "source": [
    "seq = [1, 2, 3, 4]\n",
    "for i in range(len(seq)) :  # 인덱스로 사용한 예\n",
    "    val = seq[i]"
   ]
  },
  {
   "cell_type": "code",
   "execution_count": 14,
   "metadata": {},
   "outputs": [
    {
     "name": "stdout",
     "output_type": "stream",
     "text": [
      "0\n",
      "3\n",
      "5\n",
      "6\n",
      "9\n",
      "10\n",
      "12\n",
      "15\n",
      "18\n",
      "20\n",
      "21\n",
      "24\n",
      "25\n",
      "27\n",
      "30\n",
      "33\n",
      "35\n",
      "36\n",
      "39\n",
      "40\n",
      "42\n",
      "45\n",
      "48\n",
      "50\n",
      "51\n",
      "54\n",
      "55\n",
      "57\n",
      "60\n",
      "63\n",
      "65\n",
      "66\n",
      "69\n",
      "70\n",
      "72\n",
      "75\n",
      "78\n",
      "80\n",
      "81\n",
      "84\n",
      "85\n",
      "87\n",
      "90\n",
      "93\n",
      "95\n",
      "96\n",
      "99\n",
      "100\n",
      "102\n",
      "105\n",
      "108\n",
      "110\n",
      "111\n",
      "114\n",
      "115\n",
      "117\n",
      "120\n",
      "123\n",
      "125\n",
      "126\n",
      "129\n",
      "130\n",
      "132\n",
      "135\n",
      "138\n",
      "140\n",
      "141\n",
      "144\n",
      "145\n",
      "147\n",
      "150\n",
      "153\n",
      "155\n",
      "156\n",
      "159\n",
      "160\n",
      "162\n",
      "165\n",
      "168\n",
      "170\n",
      "171\n",
      "174\n",
      "175\n",
      "177\n",
      "180\n",
      "183\n",
      "185\n",
      "186\n",
      "189\n",
      "190\n",
      "192\n",
      "195\n",
      "198\n",
      "200\n",
      "201\n",
      "204\n",
      "205\n",
      "207\n",
      "210\n",
      "213\n",
      "215\n",
      "216\n",
      "219\n",
      "220\n",
      "222\n",
      "225\n",
      "228\n",
      "230\n",
      "231\n",
      "234\n",
      "235\n",
      "237\n",
      "240\n",
      "243\n",
      "245\n",
      "246\n",
      "249\n",
      "250\n",
      "252\n",
      "255\n",
      "258\n",
      "260\n",
      "261\n",
      "264\n",
      "265\n",
      "267\n",
      "270\n",
      "273\n",
      "275\n",
      "276\n",
      "279\n",
      "280\n",
      "282\n",
      "285\n",
      "288\n",
      "290\n",
      "291\n",
      "294\n",
      "295\n",
      "297\n",
      "300\n",
      "303\n",
      "305\n",
      "306\n",
      "309\n",
      "310\n",
      "312\n",
      "315\n",
      "318\n",
      "320\n",
      "321\n",
      "324\n",
      "325\n",
      "327\n",
      "330\n",
      "333\n",
      "335\n",
      "336\n",
      "339\n",
      "340\n",
      "342\n",
      "345\n",
      "348\n",
      "350\n",
      "351\n",
      "354\n",
      "355\n",
      "357\n",
      "360\n",
      "363\n",
      "365\n",
      "366\n",
      "369\n",
      "370\n",
      "372\n",
      "375\n",
      "378\n",
      "380\n",
      "381\n",
      "384\n",
      "385\n",
      "387\n",
      "390\n",
      "393\n",
      "395\n",
      "396\n",
      "399\n",
      "400\n",
      "402\n",
      "405\n",
      "408\n",
      "410\n",
      "411\n",
      "414\n",
      "415\n",
      "417\n",
      "420\n",
      "423\n",
      "425\n",
      "426\n",
      "429\n",
      "430\n",
      "432\n",
      "435\n",
      "438\n",
      "440\n",
      "441\n",
      "444\n",
      "445\n",
      "447\n",
      "450\n",
      "453\n",
      "455\n",
      "456\n",
      "459\n",
      "460\n",
      "462\n",
      "465\n",
      "468\n",
      "470\n",
      "471\n",
      "474\n",
      "475\n",
      "477\n",
      "480\n",
      "483\n",
      "485\n",
      "486\n",
      "489\n",
      "490\n",
      "492\n",
      "495\n",
      "498\n",
      "500\n",
      "501\n",
      "504\n",
      "505\n",
      "507\n",
      "510\n",
      "513\n",
      "515\n",
      "516\n",
      "519\n",
      "520\n",
      "522\n",
      "525\n",
      "528\n",
      "530\n",
      "531\n",
      "534\n",
      "535\n",
      "537\n",
      "540\n",
      "543\n",
      "545\n",
      "546\n",
      "549\n",
      "550\n",
      "552\n",
      "555\n",
      "558\n",
      "560\n",
      "561\n",
      "564\n",
      "565\n",
      "567\n",
      "570\n",
      "573\n",
      "575\n",
      "576\n",
      "579\n",
      "580\n",
      "582\n",
      "585\n",
      "588\n",
      "590\n",
      "591\n",
      "594\n",
      "595\n",
      "597\n",
      "600\n",
      "603\n",
      "605\n",
      "606\n",
      "609\n",
      "610\n",
      "612\n",
      "615\n",
      "618\n",
      "620\n",
      "621\n",
      "624\n",
      "625\n",
      "627\n",
      "630\n",
      "633\n",
      "635\n",
      "636\n",
      "639\n",
      "640\n",
      "642\n",
      "645\n",
      "648\n",
      "650\n",
      "651\n",
      "654\n",
      "655\n",
      "657\n",
      "660\n",
      "663\n",
      "665\n",
      "666\n",
      "669\n",
      "670\n",
      "672\n",
      "675\n",
      "678\n",
      "680\n",
      "681\n",
      "684\n",
      "685\n",
      "687\n",
      "690\n",
      "693\n",
      "695\n",
      "696\n",
      "699\n",
      "700\n",
      "702\n",
      "705\n",
      "708\n",
      "710\n",
      "711\n",
      "714\n",
      "715\n",
      "717\n",
      "720\n",
      "723\n",
      "725\n",
      "726\n",
      "729\n",
      "730\n",
      "732\n",
      "735\n",
      "738\n",
      "740\n",
      "741\n",
      "744\n",
      "745\n",
      "747\n",
      "750\n",
      "753\n",
      "755\n",
      "756\n",
      "759\n",
      "760\n",
      "762\n",
      "765\n",
      "768\n",
      "770\n",
      "771\n",
      "774\n",
      "775\n",
      "777\n",
      "780\n",
      "783\n",
      "785\n",
      "786\n",
      "789\n",
      "790\n",
      "792\n",
      "795\n",
      "798\n",
      "800\n",
      "801\n",
      "804\n",
      "805\n",
      "807\n",
      "810\n",
      "813\n",
      "815\n",
      "816\n",
      "819\n",
      "820\n",
      "822\n",
      "825\n",
      "828\n",
      "830\n",
      "831\n",
      "834\n",
      "835\n",
      "837\n",
      "840\n",
      "843\n",
      "845\n",
      "846\n",
      "849\n",
      "850\n",
      "852\n",
      "855\n",
      "858\n",
      "860\n",
      "861\n",
      "864\n",
      "865\n",
      "867\n",
      "870\n",
      "873\n",
      "875\n",
      "876\n",
      "879\n",
      "880\n",
      "882\n",
      "885\n",
      "888\n",
      "890\n",
      "891\n",
      "894\n",
      "895\n",
      "897\n",
      "900\n",
      "903\n",
      "905\n",
      "906\n",
      "909\n",
      "910\n",
      "912\n",
      "915\n",
      "918\n",
      "920\n",
      "921\n",
      "924\n",
      "925\n",
      "927\n",
      "930\n",
      "933\n",
      "935\n",
      "936\n",
      "939\n",
      "940\n",
      "942\n",
      "945\n",
      "948\n",
      "950\n",
      "951\n",
      "954\n",
      "955\n",
      "957\n",
      "960\n",
      "963\n",
      "965\n",
      "966\n",
      "969\n",
      "970\n",
      "972\n",
      "975\n",
      "978\n",
      "980\n",
      "981\n",
      "984\n",
      "985\n",
      "987\n",
      "990\n",
      "993\n",
      "995\n",
      "996\n",
      "999\n"
     ]
    },
    {
     "data": {
      "text/plain": [
       "233168"
      ]
     },
     "execution_count": 14,
     "metadata": {},
     "output_type": "execute_result"
    }
   ],
   "source": [
    "# 예\n",
    "\n",
    "sum = 0\n",
    "\n",
    "for i in range(1000) :\n",
    "    if i % 3 == 0 or i % 5 == 0 :\n",
    "        print(i)\n",
    "        sum += i\n",
    "    \n",
    "sum"
   ]
  },
  {
   "cell_type": "markdown",
   "metadata": {},
   "source": [
    "#### 삼항 표현식"
   ]
  },
  {
   "cell_type": "markdown",
   "metadata": {},
   "source": [
    "```python\n",
    "if condition :\n",
    "    value = true-expr\n",
    "else :\n",
    "    value = false-expr\n",
    "```\n",
    "\n",
    "위의 식을 아래와 같이 표현 가능함 \n",
    "\n",
    "```python\n",
    "value = true-expr if condition else false-expr\n",
    "\n",
    "```"
   ]
  },
  {
   "cell_type": "code",
   "execution_count": 15,
   "metadata": {},
   "outputs": [
    {
     "data": {
      "text/plain": [
       "'Non-negative'"
      ]
     },
     "execution_count": 15,
     "metadata": {},
     "output_type": "execute_result"
    }
   ],
   "source": [
    "x = 5\n",
    "\n",
    "'Non-negative' if x >= 0 else 'Negative'"
   ]
  },
  {
   "cell_type": "markdown",
   "metadata": {},
   "source": [
    "참고 자료\n",
    "> Python for Data Analysis(2019), 한빛미디어"
   ]
  }
 ],
 "metadata": {
  "kernelspec": {
   "display_name": "Python 3",
   "language": "python",
   "name": "python3"
  },
  "language_info": {
   "codemirror_mode": {
    "name": "ipython",
    "version": 3
   },
   "file_extension": ".py",
   "mimetype": "text/x-python",
   "name": "python",
   "nbconvert_exporter": "python",
   "pygments_lexer": "ipython3",
   "version": "3.7.3"
  }
 },
 "nbformat": 4,
 "nbformat_minor": 2
}
