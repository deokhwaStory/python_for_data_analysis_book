{
 "cells": [
  {
   "cell_type": "markdown",
   "metadata": {},
   "source": [
    "#### namespace\n",
    "\n",
    "- 변수 참조 : 전역/ 지역 scope에서 실행\n",
    "- 변수 scope == namespace\n",
    "- 지역 namespace :  예) 함수 내 선언된 변수 - 함수가 호출될 때 생성되며 함수의 인지를 통해 즉시 생성, 함수 실행 끝나면 소멸"
   ]
  },
  {
   "cell_type": "code",
   "execution_count": 7,
   "metadata": {},
   "outputs": [
    {
     "data": {
      "text/plain": [
       "[0, 1, 2, 3, 4]"
      ]
     },
     "execution_count": 7,
     "metadata": {},
     "output_type": "execute_result"
    }
   ],
   "source": [
    "# 지역변수\n",
    "\n",
    "def func() :\n",
    "    a = []\n",
    "    for i in range(5):\n",
    "        a.append(i)\n",
    "        \n",
    "    return a\n",
    "\n",
    "func()"
   ]
  },
  {
   "cell_type": "code",
   "execution_count": 8,
   "metadata": {},
   "outputs": [
    {
     "name": "stdout",
     "output_type": "stream",
     "text": [
      "[]\n"
     ]
    }
   ],
   "source": [
    "# 전역변수 : 함수 스코프 밖에서 변수에 값 대입하려면 global로 전역변수 선언하면 됨, 시스템 전체의 상태를 저장하기 위한 용도이기에 자주 사용하지 말기!\n",
    "\n",
    "a = None\n",
    "\n",
    "def bind_a_variable() :\n",
    "    global a\n",
    "    a = []\n",
    "    \n",
    "bind_a_variable()\n",
    "\n",
    "print(a)"
   ]
  },
  {
   "cell_type": "markdown",
   "metadata": {},
   "source": [
    "#### 여러 값 반환\n",
    "1. 튜플\n",
    "\n",
    "    - 하나의 함수에서 여러 개의 값(하나의 객채, 튜플) 반환\n",
    "    ```python\n",
    "    def f() :\n",
    "        a = 5\n",
    "        b = 6\n",
    "        c = 7\n",
    "        return a, b, c\n",
    "    ```\n",
    "    - 반환\n",
    "        1.   \n",
    "    ``` python\n",
    "    a, b, c = f()\n",
    "    ```\n",
    "        2.      \n",
    "    ``` python\n",
    "    return_value = f()\n",
    "    ```\n",
    "            * return_value : 위의 경우는 반환된 3개의 값 가지는 튜플\n"
   ]
  },
  {
   "cell_type": "markdown",
   "metadata": {},
   "source": [
    "2. 사전\n",
    "\n",
    "```python\n",
    "def f() :\n",
    "    a = 5\n",
    "    b = 6\n",
    "    c = 7\n",
    "    return {'a': a, 'b' : b, 'c':c}\n",
    "\n",
    "```"
   ]
  },
  {
   "cell_type": "markdown",
   "metadata": {},
   "source": [
    "참고 자료\n",
    "> Python for Data Analysis(2019), 한빛미디어"
   ]
  }
 ],
 "metadata": {
  "kernelspec": {
   "display_name": "Python 3",
   "language": "python",
   "name": "python3"
  },
  "language_info": {
   "codemirror_mode": {
    "name": "ipython",
    "version": 3
   },
   "file_extension": ".py",
   "mimetype": "text/x-python",
   "name": "python",
   "nbconvert_exporter": "python",
   "pygments_lexer": "ipython3",
   "version": "3.7.3"
  }
 },
 "nbformat": 4,
 "nbformat_minor": 2
}
